{
 "cells": [
  {
   "cell_type": "markdown",
   "id": "2799da27",
   "metadata": {},
   "source": [
    "## Operadores de Comparação\n",
    "## == igual a\n",
    "## != diferente de\n",
    "## >  maior que\n",
    "## <  menor que\n",
    "## >= maior ou igual\n",
    "## <  menor ou igual"
   ]
  },
  {
   "cell_type": "code",
   "execution_count": null,
   "id": "602871e6",
   "metadata": {},
   "outputs": [
    {
     "name": "stdout",
     "output_type": "stream",
     "text": [
      "digite um número: \n",
      "São iguais?  False \n",
      "\n",
      "8 é maior que  6 ? True \n",
      "\n",
      "8 são diferentes?True\n"
     ]
    }
   ],
   "source": [
    "x = y = z = False\n",
    "n1 = n2 = 0\n",
    "\n",
    "print('digite um número: ')\n",
    "n1 = int(input())\n",
    "\n",
    "n2 = int(input('Digite outro número'))\n",
    "\n",
    "x = n1 == n2\n",
    "print('São iguais? ', x, '\\n')\n",
    "\n",
    "z = n1 > n2\n",
    "print(n1,'é maior que ',n2,'?',z,'\\n')\n",
    "\n",
    "y = n1 != n2\n",
    "print(n1, 'são diferentes? ' + str(y))"
   ]
  }
 ],
 "metadata": {
  "kernelspec": {
   "display_name": "Python 3",
   "language": "python",
   "name": "python3"
  },
  "language_info": {
   "codemirror_mode": {
    "name": "ipython",
    "version": 3
   },
   "file_extension": ".py",
   "mimetype": "text/x-python",
   "name": "python",
   "nbconvert_exporter": "python",
   "pygments_lexer": "ipython3",
   "version": "3.13.9"
  }
 },
 "nbformat": 4,
 "nbformat_minor": 5
}
