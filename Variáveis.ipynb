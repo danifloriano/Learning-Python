{
 "cells": [
  {
   "cell_type": "code",
   "execution_count": 1,
   "id": "c093c2a7",
   "metadata": {},
   "outputs": [
    {
     "name": "stdout",
     "output_type": "stream",
     "text": [
      "Daniel\n"
     ]
    }
   ],
   "source": [
    "nome = 'Daniel'\n",
    "print(nome)\n",
    "media = 0\n",
    "n1 = n2 = n3 = n4 = 0.0\n",
    "nome, idade = 'Daniel', 25\n",
    "estado = True"
   ]
  },
  {
   "cell_type": "code",
   "execution_count": 2,
   "id": "a0b46bde",
   "metadata": {},
   "outputs": [
    {
     "name": "stdout",
     "output_type": "stream",
     "text": [
      "<class 'int'>\n",
      "<class 'float'>\n",
      "<class 'str'>\n",
      "<class 'bool'>\n",
      "<class 'complex'>\n"
     ]
    }
   ],
   "source": [
    "#Função Type()\n",
    "print(type(media))\n",
    "print(type(n2))\n",
    "print(type(nome))\n",
    "print(type(estado))\n",
    "print(type(1+2j))"
   ]
  },
  {
   "cell_type": "code",
   "execution_count": 3,
   "id": "c2dc4b4b",
   "metadata": {},
   "outputs": [
    {
     "name": "stdout",
     "output_type": "stream",
     "text": [
      "True\n",
      "False\n",
      "False\n",
      "False\n",
      "True\n",
      "120\n"
     ]
    }
   ],
   "source": [
    "# Função Instance()\n",
    "a = 10\n",
    "b = 'Sol'\n",
    "print(isinstance(a, int))\n",
    "print(isinstance(b, int))\n",
    "print(isinstance(a, float))\n",
    "print(isinstance(b, float))\n",
    "print(isinstance(a,(int, float)))\n",
    "\n",
    "a = 40\n",
    "c = 3\n",
    "r = a * c\n",
    "print(r)"
   ]
  }
 ],
 "metadata": {
  "kernelspec": {
   "display_name": "Python 3",
   "language": "python",
   "name": "python3"
  },
  "language_info": {
   "codemirror_mode": {
    "name": "ipython",
    "version": 3
   },
   "file_extension": ".py",
   "mimetype": "text/x-python",
   "name": "python",
   "nbconvert_exporter": "python",
   "pygments_lexer": "ipython3",
   "version": "3.13.9"
  }
 },
 "nbformat": 4,
 "nbformat_minor": 5
}
