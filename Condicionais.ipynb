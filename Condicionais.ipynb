{
 "cells": [
  {
   "cell_type": "markdown",
   "id": "e1599489",
   "metadata": {},
   "source": [
    "Simples, composto, encadeado"
   ]
  },
  {
   "cell_type": "code",
   "execution_count": 17,
   "id": "dcf6ae84",
   "metadata": {},
   "outputs": [
    {
     "name": "stdout",
     "output_type": "stream",
     "text": [
      "Você está de recuperação\n",
      "Sua média é 6.0\n"
     ]
    }
   ],
   "source": [
    "n1 = float(input('Digite a primeira nota: '))\n",
    "n2 = float(input('Digite a segunda nota: '))\n",
    "\n",
    "#Calcular a média aritmética das notas\n",
    "media = (n1 + n2) / 2\n",
    "\n",
    "if (media >= 7):\n",
    "    print('Resultado: Aprovado!')\n",
    "    print('Parabéns')\n",
    "elif (media >= 5):#-----------------encadeado\n",
    "    print('Você está de recuperação')\n",
    "else:#------------------------------Composto\n",
    "    print('Aluno reprovado...')\n",
    "\n",
    "print('Sua média é {}'.format(media))"
   ]
  }
 ],
 "metadata": {
  "kernelspec": {
   "display_name": "Python 3",
   "language": "python",
   "name": "python3"
  },
  "language_info": {
   "codemirror_mode": {
    "name": "ipython",
    "version": 3
   },
   "file_extension": ".py",
   "mimetype": "text/x-python",
   "name": "python",
   "nbconvert_exporter": "python",
   "pygments_lexer": "ipython3",
   "version": "3.13.9"
  }
 },
 "nbformat": 4,
 "nbformat_minor": 5
}
