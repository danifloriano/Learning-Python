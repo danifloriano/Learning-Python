{
 "cells": [
  {
   "cell_type": "code",
   "execution_count": 2,
   "id": "b7e6ef51",
   "metadata": {},
   "outputs": [
    {
     "name": "stdout",
     "output_type": "stream",
     "text": [
      "A soma dos dois valores é 16\n"
     ]
    }
   ],
   "source": [
    "x = y = z = 0\n",
    "\n",
    "x = 7\n",
    "y = 9\n",
    "z = x + y\n",
    "print('A soma dos dois valores é', z)"
   ]
  },
  {
   "cell_type": "code",
   "execution_count": 3,
   "id": "25dcc8d0",
   "metadata": {},
   "outputs": [
    {
     "name": "stdout",
     "output_type": "stream",
     "text": [
      "A soma dos dois valores é  17\n"
     ]
    }
   ],
   "source": [
    "x = int(input('Digite o número: '))\n",
    "y = int(input('Digite outro número: '))\n",
    "z = x + y\n",
    "\n",
    "print('A soma dos dois valores é ', z)"
   ]
  }
 ],
 "metadata": {
  "kernelspec": {
   "display_name": "Python 3",
   "language": "python",
   "name": "python3"
  },
  "language_info": {
   "codemirror_mode": {
    "name": "ipython",
    "version": 3
   },
   "file_extension": ".py",
   "mimetype": "text/x-python",
   "name": "python",
   "nbconvert_exporter": "python",
   "pygments_lexer": "ipython3",
   "version": "3.13.9"
  }
 },
 "nbformat": 4,
 "nbformat_minor": 5
}
