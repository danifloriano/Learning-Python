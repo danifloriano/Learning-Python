{
 "cells": [
  {
   "cell_type": "markdown",
   "id": "620bee5b",
   "metadata": {},
   "source": [
    "True/False\n",
    "\n",
    "Operadores\n",
    "AND\n",
    "OR\n",
    "NOT"
   ]
  },
  {
   "cell_type": "code",
   "execution_count": 2,
   "id": "9ab95c17",
   "metadata": {},
   "outputs": [
    {
     "name": "stdout",
     "output_type": "stream",
     "text": [
      "Pode participar do evento? True\n"
     ]
    }
   ],
   "source": [
    "idade = 25\n",
    "altura = 1.71\n",
    "\n",
    "resultado = (idade >= 18) and (altura >= 1.70)\n",
    "msg = 'Pode participar do evento? ' + str(resultado)\n",
    "print(msg)"
   ]
  },
  {
   "cell_type": "code",
   "execution_count": 4,
   "id": "d34a85c9",
   "metadata": {},
   "outputs": [
    {
     "name": "stdout",
     "output_type": "stream",
     "text": [
      "Pode participar do evento? False\n"
     ]
    }
   ],
   "source": [
    "idade = 15\n",
    "altura = 1.71\n",
    "\n",
    "resultado = (idade >= 18) and (altura >= 1.70)\n",
    "msg = 'Pode participar do evento? ' + str(resultado)\n",
    "print(msg)"
   ]
  },
  {
   "cell_type": "markdown",
   "id": "ba87b89d",
   "metadata": {},
   "source": [
    "Operador OR\n",
    "\n",
    "Programa de disparo de alarme "
   ]
  },
  {
   "cell_type": "code",
   "execution_count": 7,
   "id": "194a1352",
   "metadata": {},
   "outputs": [
    {
     "name": "stdout",
     "output_type": "stream",
     "text": [
      "Alarme desparado True\n"
     ]
    }
   ],
   "source": [
    "porta = 'a'\n",
    "janela = 'f'\n",
    "\n",
    "alarme = (porta == 'a') or (janela == 'a')\n",
    "msg = 'Alarme desparado ' + str(alarme)\n",
    "print(msg)"
   ]
  },
  {
   "cell_type": "markdown",
   "id": "5938c60a",
   "metadata": {},
   "source": [
    "Operador NOT"
   ]
  },
  {
   "cell_type": "code",
   "execution_count": 10,
   "id": "1023f3fe",
   "metadata": {},
   "outputs": [
    {
     "name": "stdout",
     "output_type": "stream",
     "text": [
      "Tem dinheiro? False\n"
     ]
    }
   ],
   "source": [
    "tem_dinheiro = True\n",
    "tem_dinheiro = not tem_dinheiro\n",
    "msg = 'Tem dinheiro? ' + str(tem_dinheiro)\n",
    "print(msg)"
   ]
  }
 ],
 "metadata": {
  "kernelspec": {
   "display_name": "Python 3",
   "language": "python",
   "name": "python3"
  },
  "language_info": {
   "codemirror_mode": {
    "name": "ipython",
    "version": 3
   },
   "file_extension": ".py",
   "mimetype": "text/x-python",
   "name": "python",
   "nbconvert_exporter": "python",
   "pygments_lexer": "ipython3",
   "version": "3.13.9"
  }
 },
 "nbformat": 4,
 "nbformat_minor": 5
}
